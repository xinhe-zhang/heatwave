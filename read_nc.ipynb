{
  "nbformat": 4,
  "nbformat_minor": 0,
  "metadata": {
    "colab": {
      "provenance": [],
      "include_colab_link": true
    },
    "kernelspec": {
      "name": "python3",
      "display_name": "Python 3"
    },
    "language_info": {
      "name": "python"
    }
  },
  "cells": [
    {
      "cell_type": "markdown",
      "metadata": {
        "id": "view-in-github",
        "colab_type": "text"
      },
      "source": [
        "<a href=\"https://colab.research.google.com/github/xinhe-zhang/heatwave/blob/main/read_nc.ipynb\" target=\"_parent\"><img src=\"https://colab.research.google.com/assets/colab-badge.svg\" alt=\"Open In Colab\"/></a>"
      ]
    },
    {
      "cell_type": "code",
      "execution_count": 13,
      "metadata": {
        "colab": {
          "base_uri": "https://localhost:8080/"
        },
        "id": "rmH9SITBfBfY",
        "outputId": "18fe6e2f-25da-4e23-9f79-e8bb4bd57435"
      },
      "outputs": [
        {
          "output_type": "stream",
          "name": "stdout",
          "text": [
            "Requirement already satisfied: netCDF4 in /usr/local/lib/python3.10/dist-packages (1.6.5)\n",
            "Requirement already satisfied: cftime in /usr/local/lib/python3.10/dist-packages (from netCDF4) (1.6.3)\n",
            "Requirement already satisfied: certifi in /usr/local/lib/python3.10/dist-packages (from netCDF4) (2023.11.17)\n",
            "Requirement already satisfied: numpy in /usr/local/lib/python3.10/dist-packages (from netCDF4) (1.23.5)\n"
          ]
        }
      ],
      "source": [
        "!pip install netCDF4\n",
        "import netCDF4\n",
        "import numpy as np\n",
        "import datetime\n",
        "import cftime\n",
        "import geopandas as gpd\n",
        "import xarray as xr\n",
        "from shapely.geometry import mapping"
      ]
    },
    {
      "cell_type": "code",
      "source": [
        "#download Tmax\n",
        "!gdown https://drive.google.com/uc?id=1MJeqg0dBkMU0Jb1-pIyCtxzur8I4XEA0&export=download"
      ],
      "metadata": {
        "id": "6HfkoaheAgHR",
        "colab": {
          "base_uri": "https://localhost:8080/"
        },
        "outputId": "5f5ce528-968d-4a07-9c78-5b6edaff751e"
      },
      "execution_count": 14,
      "outputs": [
        {
          "output_type": "stream",
          "name": "stdout",
          "text": [
            "Downloading...\n",
            "From: https://drive.google.com/uc?id=1MJeqg0dBkMU0Jb1-pIyCtxzur8I4XEA0\n",
            "To: /content/tread_tmx_1980-2018_deg0.05_daily.nc\n",
            "100% 1.09G/1.09G [00:11<00:00, 93.1MB/s]\n"
          ]
        }
      ]
    },
    {
      "cell_type": "code",
      "source": [
        "#download RH\n",
        "!gdown https://drive.google.com/uc?id=1carQbtnnnr4665_RZn74U8yYUAussWoO&export=download"
      ],
      "metadata": {
        "id": "yRC4OdEE4H_D",
        "outputId": "dbf0e87f-6f1d-4e95-d746-04ef8f2b1135",
        "colab": {
          "base_uri": "https://localhost:8080/"
        }
      },
      "execution_count": 20,
      "outputs": [
        {
          "output_type": "stream",
          "name": "stdout",
          "text": [
            "Downloading...\n",
            "From: https://drive.google.com/uc?id=1carQbtnnnr4665_RZn74U8yYUAussWoO\n",
            "To: /content/tread_rh2_1980-2018_deg0.05_daily.nc\n",
            "100% 1.09G/1.09G [00:12<00:00, 90.7MB/s]\n"
          ]
        }
      ]
    },
    {
      "cell_type": "code",
      "source": [
        "#download windspeed\n",
        "!gdown https://drive.google.com/uc?id=1vn_sr49fx9HpEzZ-iT1hPWLNBJioJMUb&export=download"
      ],
      "metadata": {
        "id": "ra-KivC6-WDJ",
        "outputId": "d8d345f7-2465-42b9-b24d-6bf1e6d13b27",
        "colab": {
          "base_uri": "https://localhost:8080/"
        }
      },
      "execution_count": 24,
      "outputs": [
        {
          "output_type": "stream",
          "name": "stdout",
          "text": [
            "Downloading...\n",
            "From: https://drive.google.com/uc?id=1vn_sr49fx9HpEzZ-iT1hPWLNBJioJMUb\n",
            "To: /content/tread_uv10_1980-2018_deg0.05_daily.nc\n",
            "100% 1.09G/1.09G [00:06<00:00, 166MB/s]\n"
          ]
        }
      ]
    },
    {
      "cell_type": "code",
      "source": [
        "netCDF4.Dataset('tread_tmx_1980-2018_deg0.05_daily.nc')"
      ],
      "metadata": {
        "colab": {
          "base_uri": "https://localhost:8080/"
        },
        "id": "x4BMUmPvEgwR",
        "outputId": "4f2c9429-4bd4-4d0c-98b0-b01a4ccd64de"
      },
      "execution_count": 17,
      "outputs": [
        {
          "output_type": "execute_result",
          "data": {
            "text/plain": [
              "<class 'netCDF4._netCDF4.Dataset'>\n",
              "root group (NETCDF4 data model, file format HDF5):\n",
              "    title: 1980-01.nc\n",
              "    Conventions: convert V0 2km 6hourly data to 1km Daily data\n",
              "    source: ncdr1:/nfsdata1/data/OBS/ERA5_WRF/V0/wrfxhr_d02_1980*.nc wrfo2D_d02_1980*.nc\n",
              "    notes: Created with NCL script: /nfsdata/work/X/POST/convert.wrf.6hr2daily.sh\n",
              "    created_by: tccip@ncdr.nat.gov.tw\n",
              "    creation_date: Mon Jul  6 15:55:57 CST 2020\n",
              "    history: Fri Nov 17 11:04:08 2023: ncrcat Tread_t2max_1980-01.nc Tread_t2max_1980-02.nc Tread_t2max_1980-03.nc Tread_t2max_1980-04.nc Tread_t2max_1980-05.nc Tread_t2max_1980-06.nc Tread_t2max_1980-07.nc Tread_t2max_1980-08.nc Tread_t2max_1980-09.nc Tread_t2max_1980-10.nc Tread_t2max_1980-11.nc Tread_t2max_1980-12.nc Tread_t2max_1981-01.nc Tread_t2max_1981-02.nc Tread_t2max_1981-03.nc Tread_t2max_1981-04.nc Tread_t2max_1981-05.nc Tread_t2max_1981-06.nc Tread_t2max_1981-07.nc Tread_t2max_1981-08.nc Tread_t2max_1981-09.nc Tread_t2max_1981-10.nc Tread_t2max_1981-11.nc Tread_t2max_1981-12.nc Tread_t2max_1982-01.nc Tread_t2max_1982-02.nc Tread_t2max_1982-03.nc Tread_t2max_1982-04.nc Tread_t2max_1982-05.nc Tread_t2max_1982-06.nc Tread_t2max_1982-07.nc Tread_t2max_1982-08.nc Tread_t2max_1982-09.nc Tread_t2max_1982-10.nc Tread_t2max_1982-11.nc Tread_t2max_1982-12.nc Tread_t2max_1983-01.nc Tread_t2max_1983-02.nc Tread_t2max_1983-03.nc Tread_t2max_1983-04.nc Tread_t2max_1983-05.nc Tread_t2max_1983-06.nc Tread_t2max_1983-07.nc Tread_t2max_1983-08.nc Tread_t2max_1983-09.nc Tread_t2max_1983-10.nc Tread_t2max_1983-11.nc Tread_t2max_1983-12.nc Tread_t2max_1984-01.nc Tread_t2max_1984-02.nc Tread_t2max_1984-03.nc Tread_t2max_1984-04.nc Tread_t2max_1984-05.nc Tread_t2max_1984-06.nc Tread_t2max_1984-07.nc Tread_t2max_1984-08.nc Tread_t2max_1984-09.nc Tread_t2max_1984-10.nc Tread_t2max_1984-11.nc Tread_t2max_1984-12.nc Tread_t2max_1985-01.nc Tread_t2max_1985-02.nc Tread_t2max_1985-03.nc Tread_t2max_1985-04.nc Tread_t2max_1985-05.nc Tread_t2max_1985-06.nc Tread_t2max_1985-07.nc Tread_t2max_1985-08.nc Tread_t2max_1985-09.nc Tread_t2max_1985-10.nc Tread_t2max_1985-11.nc Tread_t2max_1985-12.nc Tread_t2max_1986-01.nc Tread_t2max_1986-02.nc Tread_t2max_1986-03.nc Tread_t2max_1986-04.nc Tread_t2max_1986-05.nc Tread_t2max_1986-06.nc Tread_t2max_1986-07.nc Tread_t2max_1986-08.nc Tread_t2max_1986-09.nc Tread_t2max_1986-10.nc Tread_t2max_1986-11.nc Tread_t2max_1986-12.nc Tread_t2max_1987-01.nc Tread_t2max_1987-02.nc Tread_t2max_1987-03.nc Tread_t2max_1987-04.nc Tread_t2max_1987-05.nc Tread_t2max_1987-06.nc Tread_t2max_1987-07.nc Tread_t2max_1987-08.nc Tread_t2max_1987-09.nc Tread_t2max_1987-10.nc Tread_t2max_1987-11.nc Tread_t2max_1987-12.nc Tread_t2max_1988-01.nc Tread_t2max_1988-02.nc Tread_t2max_1988-03.nc Tread_t2max_1988-04.nc Tread_t2max_1988-05.nc Tread_t2max_1988-06.nc Tread_t2max_1988-07.nc Tread_t2max_1988-08.nc Tread_t2max_1988-09.nc Tread_t2max_1988-10.nc Tread_t2max_1988-11.nc Tread_t2max_1988-12.nc Tread_t2max_1989-01.nc Tread_t2max_1989-02.nc Tread_t2max_1989-03.nc Tread_t2max_1989-04.nc Tread_t2max_1989-05.nc Tread_t2max_1989-06.nc Tread_t2max_1989-07.nc Tread_t2max_1989-08.nc Tread_t2max_1989-09.nc Tread_t2max_1989-10.nc Tread_t2max_1989-11.nc Tread_t2max_1989-12.nc Tread_t2max_1990-01.nc Tread_t2max_1990-02.nc Tread_t2max_1990-03.nc Tread_t2max_1990-04.nc Tread_t2max_1990-05.nc Tread_t2max_1990-06.nc Tread_t2max_1990-07.nc Tread_t2max_1990-08.nc Tread_t2max_1990-09.nc Tread_t2max_1990-10.nc Tread_t2max_1990-11.nc Tread_t2max_1990-12.nc Tread_t2max_1991-01.nc Tread_t2max_1991-02.nc Tread_t2max_1991-03.nc Tread_t2max_1991-04.nc Tread_t2max_1991-05.nc Tread_t2max_1991-06.nc Tread_t2max_1991-07.nc Tread_t2max_1991-08.nc Tread_t2max_1991-09.nc Tread_t2max_1991-10.nc Tread_t2max_1991-11.nc Tread_t2max_1991-12.nc Tread_t2max_1992-01.nc Tread_t2max_1992-02.nc Tread_t2max_1992-03.nc Tread_t2max_1992-04.nc Tread_t2max_1992-05.nc Tread_t2max_1992-06.nc Tread_t2max_1992-07.nc Tread_t2max_1992-08.nc Tread_t2max_1992-09.nc Tread_t2max_1992-10.nc Tread_t2max_1992-11.nc Tread_t2max_1992-12.nc Tread_t2max_1993-01.nc Tread_t2max_1993-02.nc Tread_t2max_1993-03.nc Tread_t2max_1993-04.nc Tread_t2max_1993-05.nc Tread_t2max_1993-06.nc Tread_t2max_1993-07.nc Tread_t2max_1993-08.nc Tread_t2max_1993-09.nc Tread_t2max_1993-10.nc Tread_t2max_1993-11.nc Tread_t2max_1993-12.nc Tread_t2max_1994-01.nc Tread_t2max_1994-02.nc Tread_t2max_1994-03.nc Tread_t2max_1994-04.nc Tread_t2max_1994-05.nc Tread_t2max_1994-06.nc Tread_t2max_1994-07.nc Tread_t2max_1994-08.nc Tread_t2max_1994-09.nc Tread_t2max_1994-10.nc Tread_t2max_1994-11.nc Tread_t2max_1994-12.nc Tread_t2max_1995-01.nc Tread_t2max_1995-02.nc Tread_t2max_1995-03.nc Tread_t2max_1995-04.nc Tread_t2max_1995-05.nc Tread_t2max_1995-06.nc Tread_t2max_1995-07.nc Tread_t2max_1995-08.nc Tread_t2max_1995-09.nc Tread_t2max_1995-10.nc Tread_t2max_1995-11.nc Tread_t2max_1995-12.nc Tread_t2max_1996-01.nc Tread_t2max_1996-02.nc Tread_t2max_1996-03.nc Tread_t2max_1996-04.nc Tread_t2max_1996-05.nc Tread_t2max_1996-06.nc Tread_t2max_1996-07.nc Tread_t2max_1996-08.nc Tread_t2max_1996-09.nc Tread_t2max_1996-10.nc Tread_t2max_1996-11.nc Tread_t2max_1996-12.nc Tread_t2max_1997-01.nc Tread_t2max_1997-02.nc Tread_t2max_1997-03.nc Tread_t2max_1997-04.nc Tread_t2max_1997-05.nc Tread_t2max_1997-06.nc Tread_t2max_1997-07.nc Tread_t2max_1997-08.nc Tread_t2max_1997-09.nc Tread_t2max_1997-10.nc Tread_t2max_1997-11.nc Tread_t2max_1997-12.nc Tread_t2max_1998-01.nc Tread_t2max_1998-02.nc Tread_t2max_1998-03.nc Tread_t2max_1998-04.nc Tread_t2max_1998-05.nc Tread_t2max_1998-06.nc Tread_t2max_1998-07.nc Tread_t2max_1998-08.nc Tread_t2max_1998-09.nc Tread_t2max_1998-10.nc Tread_t2max_1998-11.nc Tread_t2max_1998-12.nc Tread_t2max_1999-01.nc Tread_t2max_1999-02.nc Tread_t2max_1999-03.nc Tread_t2max_1999-04.nc Tread_t2max_1999-05.nc Tread_t2max_1999-06.nc Tread_t2max_1999-07.nc Tread_t2max_1999-08.nc Tread_t2max_1999-09.nc Tread_t2max_1999-10.nc Tread_t2max_1999-11.nc Tread_t2max_1999-12.nc Tread_t2max_2000-01.nc Tread_t2max_2000-02.nc Tread_t2max_2000-03.nc Tread_t2max_2000-04.nc Tread_t2max_2000-05.nc Tread_t2max_2000-06.nc Tread_t2max_2000-07.nc Tread_t2max_2000-08.nc Tread_t2max_2000-09.nc Tread_t2max_2000-10.nc Tread_t2max_2000-11.nc Tread_t2max_2000-12.nc Tread_t2max_2001-01.nc Tread_t2max_2001-02.nc Tread_t2max_2001-03.nc Tread_t2max_2001-04.nc Tread_t2max_2001-05.nc Tread_t2max_2001-06.nc Tread_t2max_2001-07.nc Tread_t2max_2001-08.nc Tread_t2max_2001-09.nc Tread_t2max_2001-10.nc Tread_t2max_2001-11.nc Tread_t2max_2001-12.nc Tread_t2max_2002-01.nc Tread_t2max_2002-02.nc Tread_t2max_2002-03.nc Tread_t2max_2002-04.nc Tread_t2max_2002-05.nc Tread_t2max_2002-06.nc Tread_t2max_2002-07.nc Tread_t2max_2002-08.nc Tread_t2max_2002-09.nc Tread_t2max_2002-10.nc Tread_t2max_2002-11.nc Tread_t2max_2002-12.nc Tread_t2max_2003-01.nc Tread_t2max_2003-02.nc Tread_t2max_2003-03.nc Tread_t2max_2003-04.nc Tread_t2max_2003-05.nc Tread_t2max_2003-06.nc Tread_t2max_2003-07.nc Tread_t2max_2003-08.nc Tread_t2max_2003-09.nc Tread_t2max_2003-10.nc Tread_t2max_2003-11.nc Tread_t2max_2003-12.nc Tread_t2max_2004-01.nc Tread_t2max_2004-02.nc Tread_t2max_2004-03.nc Tread_t2max_2004-04.nc Tread_t2max_2004-05.nc Tread_t2max_2004-06.nc Tread_t2max_2004-07.nc Tread_t2max_2004-08.nc Tread_t2max_2004-09.nc Tread_t2max_2004-10.nc Tread_t2max_2004-11.nc Tread_t2max_2004-12.nc Tread_t2max_2005-01.nc Tread_t2max_2005-02.nc Tread_t2max_2005-03.nc Tread_t2max_2005-04.nc Tread_t2max_2005-05.nc Tread_t2max_2005-06.nc Tread_t2max_2005-07.nc Tread_t2max_2005-08.nc Tread_t2max_2005-09.nc Tread_t2max_2005-10.nc Tread_t2max_2005-11.nc Tread_t2max_2005-12.nc Tread_t2max_2006-01.nc Tread_t2max_2006-02.nc Tread_t2max_2006-03.nc Tread_t2max_2006-04.nc Tread_t2max_2006-05.nc Tread_t2max_2006-06.nc Tread_t2max_2006-07.nc Tread_t2max_2006-08.nc Tread_t2max_2006-09.nc Tread_t2max_2006-10.nc Tread_t2max_2006-11.nc Tread_t2max_2006-12.nc Tread_t2max_2007-01.nc Tread_t2max_2007-02.nc Tread_t2max_2007-03.nc Tread_t2max_2007-04.nc Tread_t2max_2007-05.nc Tread_t2max_2007-06.nc Tread_t2max_2007-07.nc Tread_t2max_2007-08.nc Tread_t2max_2007-09.nc Tread_t2max_2007-10.nc Tread_t2max_2007-11.nc Tread_t2max_2007-12.nc Tread_t2max_2008-01.nc Tread_t2max_2008-02.nc Tread_t2max_2008-03.nc Tread_t2max_2008-04.nc Tread_t2max_2008-05.nc Tread_t2max_2008-06.nc Tread_t2max_2008-07.nc Tread_t2max_2008-08.nc Tread_t2max_2008-09.nc Tread_t2max_2008-10.nc Tread_t2max_2008-11.nc Tread_t2max_2008-12.nc Tread_t2max_2009-01.nc Tread_t2max_2009-02.nc Tread_t2max_2009-03.nc Tread_t2max_2009-04.nc Tread_t2max_2009-05.nc Tread_t2max_2009-06.nc Tread_t2max_2009-07.nc Tread_t2max_2009-08.nc Tread_t2max_2009-09.nc Tread_t2max_2009-10.nc Tread_t2max_2009-11.nc Tread_t2max_2009-12.nc Tread_t2max_2010-01.nc Tread_t2max_2010-02.nc Tread_t2max_2010-03.nc Tread_t2max_2010-04.nc Tread_t2max_2010-05.nc Tread_t2max_2010-06.nc Tread_t2max_2010-07.nc Tread_t2max_2010-08.nc Tread_t2max_2010-09.nc Tread_t2max_2010-10.nc Tread_t2max_2010-11.nc Tread_t2max_2010-12.nc Tread_t2max_2011-01.nc Tread_t2max_2011-02.nc Tread_t2max_2011-03.nc Tread_t2max_2011-04.nc Tread_t2max_2011-05.nc Tread_t2max_2011-06.nc Tread_t2max_2011-07.nc Tread_t2max_2011-08.nc Tread_t2max_2011-09.nc Tread_t2max_2011-10.nc Tread_t2max_2011-11.nc Tread_t2max_2011-12.nc Tread_t2max_2012-01.nc Tread_t2max_2012-02.nc Tread_t2max_2012-03.nc Tread_t2max_2012-04.nc Tread_t2max_2012-05.nc Tread_t2max_2012-06.nc Tread_t2max_2012-07.nc Tread_t2max_2012-08.nc Tread_t2max_2012-09.nc Tread_t2max_2012-10.nc Tread_t2max_2012-11.nc Tread_t2max_2012-12.nc Tread_t2max_2013-01.nc Tread_t2max_2013-02.nc Tread_t2max_2013-03.nc Tread_t2max_2013-04.nc Tread_t2max_2013-05.nc Tread_t2max_2013-06.nc Tread_t2max_2013-07.nc Tread_t2max_2013-08.nc Tread_t2max_2013-09.nc Tread_t2max_2013-10.nc Tread_t2max_2013-11.nc Tread_t2max_2013-12.nc Tread_t2max_2014-01.nc Tread_t2max_2014-02.nc Tread_t2max_2014-03.nc Tread_t2max_2014-04.nc Tread_t2max_2014-05.nc Tread_t2max_2014-06.nc Tread_t2max_2014-07.nc Tread_t2max_2014-08.nc Tread_t2max_2014-09.nc Tread_t2max_2014-10.nc Tread_t2max_2014-11.nc Tread_t2max_2014-12.nc Tread_t2max_2015-01.nc Tread_t2max_2015-02.nc Tread_t2max_2015-03.nc Tread_t2max_2015-04.nc Tread_t2max_2015-05.nc Tread_t2max_2015-06.nc Tread_t2max_2015-07.nc Tread_t2max_2015-08.nc Tread_t2max_2015-09.nc Tread_t2max_2015-10.nc Tread_t2max_2015-11.nc Tread_t2max_2015-12.nc Tread_t2max_2016-01.nc Tread_t2max_2016-02.nc Tread_t2max_2016-03.nc Tread_t2max_2016-04.nc Tread_t2max_2016-05.nc Tread_t2max_2016-06.nc Tread_t2max_2016-07.nc Tread_t2max_2016-08.nc Tread_t2max_2016-09.nc Tread_t2max_2016-10.nc Tread_t2max_2016-11.nc Tread_t2max_2016-12.nc Tread_t2max_2017-01.nc Tread_t2max_2017-02.nc Tread_t2max_2017-03.nc Tread_t2max_2017-04.nc Tread_t2max_2017-05.nc Tread_t2max_2017-06.nc Tread_t2max_2017-07.nc Tread_t2max_2017-08.nc Tread_t2max_2017-09.nc Tread_t2max_2017-10.nc Tread_t2max_2017-11.nc Tread_t2max_2017-12.nc Tread_t2max_2018-01.nc Tread_t2max_2018-02.nc Tread_t2max_2018-03.nc Tread_t2max_2018-04.nc Tread_t2max_2018-05.nc Tread_t2max_2018-06.nc Tread_t2max_2018-07.nc Tread_t2max_2018-08.nc Tread_t2max_2018-09.nc Tread_t2max_2018-10.nc Tread_t2max_2018-11.nc Tread_t2max_2018-12.nc Tread_t2max_1980_2018.nc\n",
              "Fri Nov 17 10:52:13 2023: ncks -v T2MAX /lfs/archive/TCCIP_data/TReAD/SFC/day/1980-01.nc Tread_t2max_1980-01.nc\n",
              "    NCO: netCDF Operators version 5.1.4 (Homepage = http://nco.sf.net, Code = http://github.com/nco/nco)\n",
              "    dimensions(sizes): time(14245), lat(105), lon(91)\n",
              "    variables(dimensions): float64 T2MAX(time, lat, lon), int64 time(time), float64 lon(lon), float64 lat(lat)\n",
              "    groups: "
            ]
          },
          "metadata": {},
          "execution_count": 17
        }
      ]
    },
    {
      "cell_type": "code",
      "source": [
        "netCDF4.Dataset('tread_rh2_1980-2018_deg0.05_daily.nc')"
      ],
      "metadata": {
        "id": "sTf_1QsO4X0A",
        "outputId": "4dd13702-0b1b-4821-95f2-2310d2e3ed05",
        "colab": {
          "base_uri": "https://localhost:8080/"
        }
      },
      "execution_count": 22,
      "outputs": [
        {
          "output_type": "execute_result",
          "data": {
            "text/plain": [
              "<class 'netCDF4._netCDF4.Dataset'>\n",
              "root group (NETCDF4 data model, file format HDF5):\n",
              "    title: 1980-01.nc\n",
              "    Conventions: convert V0 2km 6hourly data to 1km Daily data\n",
              "    source: ncdr1:/nfsdata1/data/OBS/ERA5_WRF/V0/wrfxhr_d02_1980*.nc wrfo2D_d02_1980*.nc\n",
              "    notes: Created with NCL script: /nfsdata/work/X/POST/convert.wrf.6hr2daily.sh\n",
              "    created_by: tccip@ncdr.nat.gov.tw\n",
              "    creation_date: Mon Jul  6 15:55:57 CST 2020\n",
              "    history: Fri Nov 17 10:28:29 2023: ncrcat Tread_rh2_1980-01.nc Tread_rh2_1980-02.nc Tread_rh2_1980-03.nc Tread_rh2_1980-04.nc Tread_rh2_1980-05.nc Tread_rh2_1980-06.nc Tread_rh2_1980-07.nc Tread_rh2_1980-08.nc Tread_rh2_1980-09.nc Tread_rh2_1980-10.nc Tread_rh2_1980-11.nc Tread_rh2_1980-12.nc Tread_rh2_1981-01.nc Tread_rh2_1981-02.nc Tread_rh2_1981-03.nc Tread_rh2_1981-04.nc Tread_rh2_1981-05.nc Tread_rh2_1981-06.nc Tread_rh2_1981-07.nc Tread_rh2_1981-08.nc Tread_rh2_1981-09.nc Tread_rh2_1981-10.nc Tread_rh2_1981-11.nc Tread_rh2_1981-12.nc Tread_rh2_1982-01.nc Tread_rh2_1982-02.nc Tread_rh2_1982-03.nc Tread_rh2_1982-04.nc Tread_rh2_1982-05.nc Tread_rh2_1982-06.nc Tread_rh2_1982-07.nc Tread_rh2_1982-08.nc Tread_rh2_1982-09.nc Tread_rh2_1982-10.nc Tread_rh2_1982-11.nc Tread_rh2_1982-12.nc Tread_rh2_1983-01.nc Tread_rh2_1983-02.nc Tread_rh2_1983-03.nc Tread_rh2_1983-04.nc Tread_rh2_1983-05.nc Tread_rh2_1983-06.nc Tread_rh2_1983-07.nc Tread_rh2_1983-08.nc Tread_rh2_1983-09.nc Tread_rh2_1983-10.nc Tread_rh2_1983-11.nc Tread_rh2_1983-12.nc Tread_rh2_1984-01.nc Tread_rh2_1984-02.nc Tread_rh2_1984-03.nc Tread_rh2_1984-04.nc Tread_rh2_1984-05.nc Tread_rh2_1984-06.nc Tread_rh2_1984-07.nc Tread_rh2_1984-08.nc Tread_rh2_1984-09.nc Tread_rh2_1984-10.nc Tread_rh2_1984-11.nc Tread_rh2_1984-12.nc Tread_rh2_1985-01.nc Tread_rh2_1985-02.nc Tread_rh2_1985-03.nc Tread_rh2_1985-04.nc Tread_rh2_1985-05.nc Tread_rh2_1985-06.nc Tread_rh2_1985-07.nc Tread_rh2_1985-08.nc Tread_rh2_1985-09.nc Tread_rh2_1985-10.nc Tread_rh2_1985-11.nc Tread_rh2_1985-12.nc Tread_rh2_1986-01.nc Tread_rh2_1986-02.nc Tread_rh2_1986-03.nc Tread_rh2_1986-04.nc Tread_rh2_1986-05.nc Tread_rh2_1986-06.nc Tread_rh2_1986-07.nc Tread_rh2_1986-08.nc Tread_rh2_1986-09.nc Tread_rh2_1986-10.nc Tread_rh2_1986-11.nc Tread_rh2_1986-12.nc Tread_rh2_1987-01.nc Tread_rh2_1987-02.nc Tread_rh2_1987-03.nc Tread_rh2_1987-04.nc Tread_rh2_1987-05.nc Tread_rh2_1987-06.nc Tread_rh2_1987-07.nc Tread_rh2_1987-08.nc Tread_rh2_1987-09.nc Tread_rh2_1987-10.nc Tread_rh2_1987-11.nc Tread_rh2_1987-12.nc Tread_rh2_1988-01.nc Tread_rh2_1988-02.nc Tread_rh2_1988-03.nc Tread_rh2_1988-04.nc Tread_rh2_1988-05.nc Tread_rh2_1988-06.nc Tread_rh2_1988-07.nc Tread_rh2_1988-08.nc Tread_rh2_1988-09.nc Tread_rh2_1988-10.nc Tread_rh2_1988-11.nc Tread_rh2_1988-12.nc Tread_rh2_1989-01.nc Tread_rh2_1989-02.nc Tread_rh2_1989-03.nc Tread_rh2_1989-04.nc Tread_rh2_1989-05.nc Tread_rh2_1989-06.nc Tread_rh2_1989-07.nc Tread_rh2_1989-08.nc Tread_rh2_1989-09.nc Tread_rh2_1989-10.nc Tread_rh2_1989-11.nc Tread_rh2_1989-12.nc Tread_rh2_1990-01.nc Tread_rh2_1990-02.nc Tread_rh2_1990-03.nc Tread_rh2_1990-04.nc Tread_rh2_1990-05.nc Tread_rh2_1990-06.nc Tread_rh2_1990-07.nc Tread_rh2_1990-08.nc Tread_rh2_1990-09.nc Tread_rh2_1990-10.nc Tread_rh2_1990-11.nc Tread_rh2_1990-12.nc Tread_rh2_1991-01.nc Tread_rh2_1991-02.nc Tread_rh2_1991-03.nc Tread_rh2_1991-04.nc Tread_rh2_1991-05.nc Tread_rh2_1991-06.nc Tread_rh2_1991-07.nc Tread_rh2_1991-08.nc Tread_rh2_1991-09.nc Tread_rh2_1991-10.nc Tread_rh2_1991-11.nc Tread_rh2_1991-12.nc Tread_rh2_1992-01.nc Tread_rh2_1992-02.nc Tread_rh2_1992-03.nc Tread_rh2_1992-04.nc Tread_rh2_1992-05.nc Tread_rh2_1992-06.nc Tread_rh2_1992-07.nc Tread_rh2_1992-08.nc Tread_rh2_1992-09.nc Tread_rh2_1992-10.nc Tread_rh2_1992-11.nc Tread_rh2_1992-12.nc Tread_rh2_1993-01.nc Tread_rh2_1993-02.nc Tread_rh2_1993-03.nc Tread_rh2_1993-04.nc Tread_rh2_1993-05.nc Tread_rh2_1993-06.nc Tread_rh2_1993-07.nc Tread_rh2_1993-08.nc Tread_rh2_1993-09.nc Tread_rh2_1993-10.nc Tread_rh2_1993-11.nc Tread_rh2_1993-12.nc Tread_rh2_1994-01.nc Tread_rh2_1994-02.nc Tread_rh2_1994-03.nc Tread_rh2_1994-04.nc Tread_rh2_1994-05.nc Tread_rh2_1994-06.nc Tread_rh2_1994-07.nc Tread_rh2_1994-08.nc Tread_rh2_1994-09.nc Tread_rh2_1994-10.nc Tread_rh2_1994-11.nc Tread_rh2_1994-12.nc Tread_rh2_1995-01.nc Tread_rh2_1995-02.nc Tread_rh2_1995-03.nc Tread_rh2_1995-04.nc Tread_rh2_1995-05.nc Tread_rh2_1995-06.nc Tread_rh2_1995-07.nc Tread_rh2_1995-08.nc Tread_rh2_1995-09.nc Tread_rh2_1995-10.nc Tread_rh2_1995-11.nc Tread_rh2_1995-12.nc Tread_rh2_1996-01.nc Tread_rh2_1996-02.nc Tread_rh2_1996-03.nc Tread_rh2_1996-04.nc Tread_rh2_1996-05.nc Tread_rh2_1996-06.nc Tread_rh2_1996-07.nc Tread_rh2_1996-08.nc Tread_rh2_1996-09.nc Tread_rh2_1996-10.nc Tread_rh2_1996-11.nc Tread_rh2_1996-12.nc Tread_rh2_1997-01.nc Tread_rh2_1997-02.nc Tread_rh2_1997-03.nc Tread_rh2_1997-04.nc Tread_rh2_1997-05.nc Tread_rh2_1997-06.nc Tread_rh2_1997-07.nc Tread_rh2_1997-08.nc Tread_rh2_1997-09.nc Tread_rh2_1997-10.nc Tread_rh2_1997-11.nc Tread_rh2_1997-12.nc Tread_rh2_1998-01.nc Tread_rh2_1998-02.nc Tread_rh2_1998-03.nc Tread_rh2_1998-04.nc Tread_rh2_1998-05.nc Tread_rh2_1998-06.nc Tread_rh2_1998-07.nc Tread_rh2_1998-08.nc Tread_rh2_1998-09.nc Tread_rh2_1998-10.nc Tread_rh2_1998-11.nc Tread_rh2_1998-12.nc Tread_rh2_1999-01.nc Tread_rh2_1999-02.nc Tread_rh2_1999-03.nc Tread_rh2_1999-04.nc Tread_rh2_1999-05.nc Tread_rh2_1999-06.nc Tread_rh2_1999-07.nc Tread_rh2_1999-08.nc Tread_rh2_1999-09.nc Tread_rh2_1999-10.nc Tread_rh2_1999-11.nc Tread_rh2_1999-12.nc Tread_rh2_2000-01.nc Tread_rh2_2000-02.nc Tread_rh2_2000-03.nc Tread_rh2_2000-04.nc Tread_rh2_2000-05.nc Tread_rh2_2000-06.nc Tread_rh2_2000-07.nc Tread_rh2_2000-08.nc Tread_rh2_2000-09.nc Tread_rh2_2000-10.nc Tread_rh2_2000-11.nc Tread_rh2_2000-12.nc Tread_rh2_2001-01.nc Tread_rh2_2001-02.nc Tread_rh2_2001-03.nc Tread_rh2_2001-04.nc Tread_rh2_2001-05.nc Tread_rh2_2001-06.nc Tread_rh2_2001-07.nc Tread_rh2_2001-08.nc Tread_rh2_2001-09.nc Tread_rh2_2001-10.nc Tread_rh2_2001-11.nc Tread_rh2_2001-12.nc Tread_rh2_2002-01.nc Tread_rh2_2002-02.nc Tread_rh2_2002-03.nc Tread_rh2_2002-04.nc Tread_rh2_2002-05.nc Tread_rh2_2002-06.nc Tread_rh2_2002-07.nc Tread_rh2_2002-08.nc Tread_rh2_2002-09.nc Tread_rh2_2002-10.nc Tread_rh2_2002-11.nc Tread_rh2_2002-12.nc Tread_rh2_2003-01.nc Tread_rh2_2003-02.nc Tread_rh2_2003-03.nc Tread_rh2_2003-04.nc Tread_rh2_2003-05.nc Tread_rh2_2003-06.nc Tread_rh2_2003-07.nc Tread_rh2_2003-08.nc Tread_rh2_2003-09.nc Tread_rh2_2003-10.nc Tread_rh2_2003-11.nc Tread_rh2_2003-12.nc Tread_rh2_2004-01.nc Tread_rh2_2004-02.nc Tread_rh2_2004-03.nc Tread_rh2_2004-04.nc Tread_rh2_2004-05.nc Tread_rh2_2004-06.nc Tread_rh2_2004-07.nc Tread_rh2_2004-08.nc Tread_rh2_2004-09.nc Tread_rh2_2004-10.nc Tread_rh2_2004-11.nc Tread_rh2_2004-12.nc Tread_rh2_2005-01.nc Tread_rh2_2005-02.nc Tread_rh2_2005-03.nc Tread_rh2_2005-04.nc Tread_rh2_2005-05.nc Tread_rh2_2005-06.nc Tread_rh2_2005-07.nc Tread_rh2_2005-08.nc Tread_rh2_2005-09.nc Tread_rh2_2005-10.nc Tread_rh2_2005-11.nc Tread_rh2_2005-12.nc Tread_rh2_2006-01.nc Tread_rh2_2006-02.nc Tread_rh2_2006-03.nc Tread_rh2_2006-04.nc Tread_rh2_2006-05.nc Tread_rh2_2006-06.nc Tread_rh2_2006-07.nc Tread_rh2_2006-08.nc Tread_rh2_2006-09.nc Tread_rh2_2006-10.nc Tread_rh2_2006-11.nc Tread_rh2_2006-12.nc Tread_rh2_2007-01.nc Tread_rh2_2007-02.nc Tread_rh2_2007-03.nc Tread_rh2_2007-04.nc Tread_rh2_2007-05.nc Tread_rh2_2007-06.nc Tread_rh2_2007-07.nc Tread_rh2_2007-08.nc Tread_rh2_2007-09.nc Tread_rh2_2007-10.nc Tread_rh2_2007-11.nc Tread_rh2_2007-12.nc Tread_rh2_2008-01.nc Tread_rh2_2008-02.nc Tread_rh2_2008-03.nc Tread_rh2_2008-04.nc Tread_rh2_2008-05.nc Tread_rh2_2008-06.nc Tread_rh2_2008-07.nc Tread_rh2_2008-08.nc Tread_rh2_2008-09.nc Tread_rh2_2008-10.nc Tread_rh2_2008-11.nc Tread_rh2_2008-12.nc Tread_rh2_2009-01.nc Tread_rh2_2009-02.nc Tread_rh2_2009-03.nc Tread_rh2_2009-04.nc Tread_rh2_2009-05.nc Tread_rh2_2009-06.nc Tread_rh2_2009-07.nc Tread_rh2_2009-08.nc Tread_rh2_2009-09.nc Tread_rh2_2009-10.nc Tread_rh2_2009-11.nc Tread_rh2_2009-12.nc Tread_rh2_2010-01.nc Tread_rh2_2010-02.nc Tread_rh2_2010-03.nc Tread_rh2_2010-04.nc Tread_rh2_2010-05.nc Tread_rh2_2010-06.nc Tread_rh2_2010-07.nc Tread_rh2_2010-08.nc Tread_rh2_2010-09.nc Tread_rh2_2010-10.nc Tread_rh2_2010-11.nc Tread_rh2_2010-12.nc Tread_rh2_2011-01.nc Tread_rh2_2011-02.nc Tread_rh2_2011-03.nc Tread_rh2_2011-04.nc Tread_rh2_2011-05.nc Tread_rh2_2011-06.nc Tread_rh2_2011-07.nc Tread_rh2_2011-08.nc Tread_rh2_2011-09.nc Tread_rh2_2011-10.nc Tread_rh2_2011-11.nc Tread_rh2_2011-12.nc Tread_rh2_2012-01.nc Tread_rh2_2012-02.nc Tread_rh2_2012-03.nc Tread_rh2_2012-04.nc Tread_rh2_2012-05.nc Tread_rh2_2012-06.nc Tread_rh2_2012-07.nc Tread_rh2_2012-08.nc Tread_rh2_2012-09.nc Tread_rh2_2012-10.nc Tread_rh2_2012-11.nc Tread_rh2_2012-12.nc Tread_rh2_2013-01.nc Tread_rh2_2013-02.nc Tread_rh2_2013-03.nc Tread_rh2_2013-04.nc Tread_rh2_2013-05.nc Tread_rh2_2013-06.nc Tread_rh2_2013-07.nc Tread_rh2_2013-08.nc Tread_rh2_2013-09.nc Tread_rh2_2013-10.nc Tread_rh2_2013-11.nc Tread_rh2_2013-12.nc Tread_rh2_2014-01.nc Tread_rh2_2014-02.nc Tread_rh2_2014-03.nc Tread_rh2_2014-04.nc Tread_rh2_2014-05.nc Tread_rh2_2014-06.nc Tread_rh2_2014-07.nc Tread_rh2_2014-08.nc Tread_rh2_2014-09.nc Tread_rh2_2014-10.nc Tread_rh2_2014-11.nc Tread_rh2_2014-12.nc Tread_rh2_2015-01.nc Tread_rh2_2015-02.nc Tread_rh2_2015-03.nc Tread_rh2_2015-04.nc Tread_rh2_2015-05.nc Tread_rh2_2015-06.nc Tread_rh2_2015-07.nc Tread_rh2_2015-08.nc Tread_rh2_2015-09.nc Tread_rh2_2015-10.nc Tread_rh2_2015-11.nc Tread_rh2_2015-12.nc Tread_rh2_2016-01.nc Tread_rh2_2016-02.nc Tread_rh2_2016-03.nc Tread_rh2_2016-04.nc Tread_rh2_2016-05.nc Tread_rh2_2016-06.nc Tread_rh2_2016-07.nc Tread_rh2_2016-08.nc Tread_rh2_2016-09.nc Tread_rh2_2016-10.nc Tread_rh2_2016-11.nc Tread_rh2_2016-12.nc Tread_rh2_2017-01.nc Tread_rh2_2017-02.nc Tread_rh2_2017-03.nc Tread_rh2_2017-04.nc Tread_rh2_2017-05.nc Tread_rh2_2017-06.nc Tread_rh2_2017-07.nc Tread_rh2_2017-08.nc Tread_rh2_2017-09.nc Tread_rh2_2017-10.nc Tread_rh2_2017-11.nc Tread_rh2_2017-12.nc Tread_rh2_2018-01.nc Tread_rh2_2018-02.nc Tread_rh2_2018-03.nc Tread_rh2_2018-04.nc Tread_rh2_2018-05.nc Tread_rh2_2018-06.nc Tread_rh2_2018-07.nc Tread_rh2_2018-08.nc Tread_rh2_2018-09.nc Tread_rh2_2018-10.nc Tread_rh2_2018-11.nc Tread_rh2_2018-12.nc Tread_rh2_1980_2018.nc\n",
              "Fri Nov 17 10:10:41 2023: ncks -v RH2 /lfs/archive/TCCIP_data/TReAD/SFC/day/1980-01.nc Tread_rh2_1980-01.nc\n",
              "    NCO: netCDF Operators version 5.1.4 (Homepage = http://nco.sf.net, Code = http://github.com/nco/nco)\n",
              "    dimensions(sizes): time(14245), lat(105), lon(91)\n",
              "    variables(dimensions): float64 RH2(time, lat, lon), int64 time(time), float64 lon(lon), float64 lat(lat)\n",
              "    groups: "
            ]
          },
          "metadata": {},
          "execution_count": 22
        }
      ]
    },
    {
      "cell_type": "code",
      "source": [
        "netCDF4.Dataset('tread_uv10_1980-2018_deg0.05_daily.nc')"
      ],
      "metadata": {
        "id": "sStpbYnoHBYQ",
        "outputId": "dd94f5a0-6376-4b55-8f0b-f9a91755102f",
        "colab": {
          "base_uri": "https://localhost:8080/"
        }
      },
      "execution_count": 25,
      "outputs": [
        {
          "output_type": "execute_result",
          "data": {
            "text/plain": [
              "<class 'netCDF4._netCDF4.Dataset'>\n",
              "root group (NETCDF4 data model, file format HDF5):\n",
              "    title: 1980-01.nc\n",
              "    Conventions: convert V0 2km 6hourly data to 1km Daily data\n",
              "    source: ncdr1:/nfsdata1/data/OBS/ERA5_WRF/V0/wrfxhr_d02_1980*.nc wrfo2D_d02_1980*.nc\n",
              "    notes: Created with NCL script: /nfsdata/work/X/POST/convert.wrf.6hr2daily.sh\n",
              "    created_by: tccip@ncdr.nat.gov.tw\n",
              "    creation_date: Mon Jul  6 15:55:57 CST 2020\n",
              "    history: Fri Nov 17 10:47:32 2023: ncrcat Tread_uv10_1980-01.nc Tread_uv10_1980-02.nc Tread_uv10_1980-03.nc Tread_uv10_1980-04.nc Tread_uv10_1980-05.nc Tread_uv10_1980-06.nc Tread_uv10_1980-07.nc Tread_uv10_1980-08.nc Tread_uv10_1980-09.nc Tread_uv10_1980-10.nc Tread_uv10_1980-11.nc Tread_uv10_1980-12.nc Tread_uv10_1981-01.nc Tread_uv10_1981-02.nc Tread_uv10_1981-03.nc Tread_uv10_1981-04.nc Tread_uv10_1981-05.nc Tread_uv10_1981-06.nc Tread_uv10_1981-07.nc Tread_uv10_1981-08.nc Tread_uv10_1981-09.nc Tread_uv10_1981-10.nc Tread_uv10_1981-11.nc Tread_uv10_1981-12.nc Tread_uv10_1982-01.nc Tread_uv10_1982-02.nc Tread_uv10_1982-03.nc Tread_uv10_1982-04.nc Tread_uv10_1982-05.nc Tread_uv10_1982-06.nc Tread_uv10_1982-07.nc Tread_uv10_1982-08.nc Tread_uv10_1982-09.nc Tread_uv10_1982-10.nc Tread_uv10_1982-11.nc Tread_uv10_1982-12.nc Tread_uv10_1983-01.nc Tread_uv10_1983-02.nc Tread_uv10_1983-03.nc Tread_uv10_1983-04.nc Tread_uv10_1983-05.nc Tread_uv10_1983-06.nc Tread_uv10_1983-07.nc Tread_uv10_1983-08.nc Tread_uv10_1983-09.nc Tread_uv10_1983-10.nc Tread_uv10_1983-11.nc Tread_uv10_1983-12.nc Tread_uv10_1984-01.nc Tread_uv10_1984-02.nc Tread_uv10_1984-03.nc Tread_uv10_1984-04.nc Tread_uv10_1984-05.nc Tread_uv10_1984-06.nc Tread_uv10_1984-07.nc Tread_uv10_1984-08.nc Tread_uv10_1984-09.nc Tread_uv10_1984-10.nc Tread_uv10_1984-11.nc Tread_uv10_1984-12.nc Tread_uv10_1985-01.nc Tread_uv10_1985-02.nc Tread_uv10_1985-03.nc Tread_uv10_1985-04.nc Tread_uv10_1985-05.nc Tread_uv10_1985-06.nc Tread_uv10_1985-07.nc Tread_uv10_1985-08.nc Tread_uv10_1985-09.nc Tread_uv10_1985-10.nc Tread_uv10_1985-11.nc Tread_uv10_1985-12.nc Tread_uv10_1986-01.nc Tread_uv10_1986-02.nc Tread_uv10_1986-03.nc Tread_uv10_1986-04.nc Tread_uv10_1986-05.nc Tread_uv10_1986-06.nc Tread_uv10_1986-07.nc Tread_uv10_1986-08.nc Tread_uv10_1986-09.nc Tread_uv10_1986-10.nc Tread_uv10_1986-11.nc Tread_uv10_1986-12.nc Tread_uv10_1987-01.nc Tread_uv10_1987-02.nc Tread_uv10_1987-03.nc Tread_uv10_1987-04.nc Tread_uv10_1987-05.nc Tread_uv10_1987-06.nc Tread_uv10_1987-07.nc Tread_uv10_1987-08.nc Tread_uv10_1987-09.nc Tread_uv10_1987-10.nc Tread_uv10_1987-11.nc Tread_uv10_1987-12.nc Tread_uv10_1988-01.nc Tread_uv10_1988-02.nc Tread_uv10_1988-03.nc Tread_uv10_1988-04.nc Tread_uv10_1988-05.nc Tread_uv10_1988-06.nc Tread_uv10_1988-07.nc Tread_uv10_1988-08.nc Tread_uv10_1988-09.nc Tread_uv10_1988-10.nc Tread_uv10_1988-11.nc Tread_uv10_1988-12.nc Tread_uv10_1989-01.nc Tread_uv10_1989-02.nc Tread_uv10_1989-03.nc Tread_uv10_1989-04.nc Tread_uv10_1989-05.nc Tread_uv10_1989-06.nc Tread_uv10_1989-07.nc Tread_uv10_1989-08.nc Tread_uv10_1989-09.nc Tread_uv10_1989-10.nc Tread_uv10_1989-11.nc Tread_uv10_1989-12.nc Tread_uv10_1990-01.nc Tread_uv10_1990-02.nc Tread_uv10_1990-03.nc Tread_uv10_1990-04.nc Tread_uv10_1990-05.nc Tread_uv10_1990-06.nc Tread_uv10_1990-07.nc Tread_uv10_1990-08.nc Tread_uv10_1990-09.nc Tread_uv10_1990-10.nc Tread_uv10_1990-11.nc Tread_uv10_1990-12.nc Tread_uv10_1991-01.nc Tread_uv10_1991-02.nc Tread_uv10_1991-03.nc Tread_uv10_1991-04.nc Tread_uv10_1991-05.nc Tread_uv10_1991-06.nc Tread_uv10_1991-07.nc Tread_uv10_1991-08.nc Tread_uv10_1991-09.nc Tread_uv10_1991-10.nc Tread_uv10_1991-11.nc Tread_uv10_1991-12.nc Tread_uv10_1992-01.nc Tread_uv10_1992-02.nc Tread_uv10_1992-03.nc Tread_uv10_1992-04.nc Tread_uv10_1992-05.nc Tread_uv10_1992-06.nc Tread_uv10_1992-07.nc Tread_uv10_1992-08.nc Tread_uv10_1992-09.nc Tread_uv10_1992-10.nc Tread_uv10_1992-11.nc Tread_uv10_1992-12.nc Tread_uv10_1993-01.nc Tread_uv10_1993-02.nc Tread_uv10_1993-03.nc Tread_uv10_1993-04.nc Tread_uv10_1993-05.nc Tread_uv10_1993-06.nc Tread_uv10_1993-07.nc Tread_uv10_1993-08.nc Tread_uv10_1993-09.nc Tread_uv10_1993-10.nc Tread_uv10_1993-11.nc Tread_uv10_1993-12.nc Tread_uv10_1994-01.nc Tread_uv10_1994-02.nc Tread_uv10_1994-03.nc Tread_uv10_1994-04.nc Tread_uv10_1994-05.nc Tread_uv10_1994-06.nc Tread_uv10_1994-07.nc Tread_uv10_1994-08.nc Tread_uv10_1994-09.nc Tread_uv10_1994-10.nc Tread_uv10_1994-11.nc Tread_uv10_1994-12.nc Tread_uv10_1995-01.nc Tread_uv10_1995-02.nc Tread_uv10_1995-03.nc Tread_uv10_1995-04.nc Tread_uv10_1995-05.nc Tread_uv10_1995-06.nc Tread_uv10_1995-07.nc Tread_uv10_1995-08.nc Tread_uv10_1995-09.nc Tread_uv10_1995-10.nc Tread_uv10_1995-11.nc Tread_uv10_1995-12.nc Tread_uv10_1996-01.nc Tread_uv10_1996-02.nc Tread_uv10_1996-03.nc Tread_uv10_1996-04.nc Tread_uv10_1996-05.nc Tread_uv10_1996-06.nc Tread_uv10_1996-07.nc Tread_uv10_1996-08.nc Tread_uv10_1996-09.nc Tread_uv10_1996-10.nc Tread_uv10_1996-11.nc Tread_uv10_1996-12.nc Tread_uv10_1997-01.nc Tread_uv10_1997-02.nc Tread_uv10_1997-03.nc Tread_uv10_1997-04.nc Tread_uv10_1997-05.nc Tread_uv10_1997-06.nc Tread_uv10_1997-07.nc Tread_uv10_1997-08.nc Tread_uv10_1997-09.nc Tread_uv10_1997-10.nc Tread_uv10_1997-11.nc Tread_uv10_1997-12.nc Tread_uv10_1998-01.nc Tread_uv10_1998-02.nc Tread_uv10_1998-03.nc Tread_uv10_1998-04.nc Tread_uv10_1998-05.nc Tread_uv10_1998-06.nc Tread_uv10_1998-07.nc Tread_uv10_1998-08.nc Tread_uv10_1998-09.nc Tread_uv10_1998-10.nc Tread_uv10_1998-11.nc Tread_uv10_1998-12.nc Tread_uv10_1999-01.nc Tread_uv10_1999-02.nc Tread_uv10_1999-03.nc Tread_uv10_1999-04.nc Tread_uv10_1999-05.nc Tread_uv10_1999-06.nc Tread_uv10_1999-07.nc Tread_uv10_1999-08.nc Tread_uv10_1999-09.nc Tread_uv10_1999-10.nc Tread_uv10_1999-11.nc Tread_uv10_1999-12.nc Tread_uv10_2000-01.nc Tread_uv10_2000-02.nc Tread_uv10_2000-03.nc Tread_uv10_2000-04.nc Tread_uv10_2000-05.nc Tread_uv10_2000-06.nc Tread_uv10_2000-07.nc Tread_uv10_2000-08.nc Tread_uv10_2000-09.nc Tread_uv10_2000-10.nc Tread_uv10_2000-11.nc Tread_uv10_2000-12.nc Tread_uv10_2001-01.nc Tread_uv10_2001-02.nc Tread_uv10_2001-03.nc Tread_uv10_2001-04.nc Tread_uv10_2001-05.nc Tread_uv10_2001-06.nc Tread_uv10_2001-07.nc Tread_uv10_2001-08.nc Tread_uv10_2001-09.nc Tread_uv10_2001-10.nc Tread_uv10_2001-11.nc Tread_uv10_2001-12.nc Tread_uv10_2002-01.nc Tread_uv10_2002-02.nc Tread_uv10_2002-03.nc Tread_uv10_2002-04.nc Tread_uv10_2002-05.nc Tread_uv10_2002-06.nc Tread_uv10_2002-07.nc Tread_uv10_2002-08.nc Tread_uv10_2002-09.nc Tread_uv10_2002-10.nc Tread_uv10_2002-11.nc Tread_uv10_2002-12.nc Tread_uv10_2003-01.nc Tread_uv10_2003-02.nc Tread_uv10_2003-03.nc Tread_uv10_2003-04.nc Tread_uv10_2003-05.nc Tread_uv10_2003-06.nc Tread_uv10_2003-07.nc Tread_uv10_2003-08.nc Tread_uv10_2003-09.nc Tread_uv10_2003-10.nc Tread_uv10_2003-11.nc Tread_uv10_2003-12.nc Tread_uv10_2004-01.nc Tread_uv10_2004-02.nc Tread_uv10_2004-03.nc Tread_uv10_2004-04.nc Tread_uv10_2004-05.nc Tread_uv10_2004-06.nc Tread_uv10_2004-07.nc Tread_uv10_2004-08.nc Tread_uv10_2004-09.nc Tread_uv10_2004-10.nc Tread_uv10_2004-11.nc Tread_uv10_2004-12.nc Tread_uv10_2005-01.nc Tread_uv10_2005-02.nc Tread_uv10_2005-03.nc Tread_uv10_2005-04.nc Tread_uv10_2005-05.nc Tread_uv10_2005-06.nc Tread_uv10_2005-07.nc Tread_uv10_2005-08.nc Tread_uv10_2005-09.nc Tread_uv10_2005-10.nc Tread_uv10_2005-11.nc Tread_uv10_2005-12.nc Tread_uv10_2006-01.nc Tread_uv10_2006-02.nc Tread_uv10_2006-03.nc Tread_uv10_2006-04.nc Tread_uv10_2006-05.nc Tread_uv10_2006-06.nc Tread_uv10_2006-07.nc Tread_uv10_2006-08.nc Tread_uv10_2006-09.nc Tread_uv10_2006-10.nc Tread_uv10_2006-11.nc Tread_uv10_2006-12.nc Tread_uv10_2007-01.nc Tread_uv10_2007-02.nc Tread_uv10_2007-03.nc Tread_uv10_2007-04.nc Tread_uv10_2007-05.nc Tread_uv10_2007-06.nc Tread_uv10_2007-07.nc Tread_uv10_2007-08.nc Tread_uv10_2007-09.nc Tread_uv10_2007-10.nc Tread_uv10_2007-11.nc Tread_uv10_2007-12.nc Tread_uv10_2008-01.nc Tread_uv10_2008-02.nc Tread_uv10_2008-03.nc Tread_uv10_2008-04.nc Tread_uv10_2008-05.nc Tread_uv10_2008-06.nc Tread_uv10_2008-07.nc Tread_uv10_2008-08.nc Tread_uv10_2008-09.nc Tread_uv10_2008-10.nc Tread_uv10_2008-11.nc Tread_uv10_2008-12.nc Tread_uv10_2009-01.nc Tread_uv10_2009-02.nc Tread_uv10_2009-03.nc Tread_uv10_2009-04.nc Tread_uv10_2009-05.nc Tread_uv10_2009-06.nc Tread_uv10_2009-07.nc Tread_uv10_2009-08.nc Tread_uv10_2009-09.nc Tread_uv10_2009-10.nc Tread_uv10_2009-11.nc Tread_uv10_2009-12.nc Tread_uv10_2010-01.nc Tread_uv10_2010-02.nc Tread_uv10_2010-03.nc Tread_uv10_2010-04.nc Tread_uv10_2010-05.nc Tread_uv10_2010-06.nc Tread_uv10_2010-07.nc Tread_uv10_2010-08.nc Tread_uv10_2010-09.nc Tread_uv10_2010-10.nc Tread_uv10_2010-11.nc Tread_uv10_2010-12.nc Tread_uv10_2011-01.nc Tread_uv10_2011-02.nc Tread_uv10_2011-03.nc Tread_uv10_2011-04.nc Tread_uv10_2011-05.nc Tread_uv10_2011-06.nc Tread_uv10_2011-07.nc Tread_uv10_2011-08.nc Tread_uv10_2011-09.nc Tread_uv10_2011-10.nc Tread_uv10_2011-11.nc Tread_uv10_2011-12.nc Tread_uv10_2012-01.nc Tread_uv10_2012-02.nc Tread_uv10_2012-03.nc Tread_uv10_2012-04.nc Tread_uv10_2012-05.nc Tread_uv10_2012-06.nc Tread_uv10_2012-07.nc Tread_uv10_2012-08.nc Tread_uv10_2012-09.nc Tread_uv10_2012-10.nc Tread_uv10_2012-11.nc Tread_uv10_2012-12.nc Tread_uv10_2013-01.nc Tread_uv10_2013-02.nc Tread_uv10_2013-03.nc Tread_uv10_2013-04.nc Tread_uv10_2013-05.nc Tread_uv10_2013-06.nc Tread_uv10_2013-07.nc Tread_uv10_2013-08.nc Tread_uv10_2013-09.nc Tread_uv10_2013-10.nc Tread_uv10_2013-11.nc Tread_uv10_2013-12.nc Tread_uv10_2014-01.nc Tread_uv10_2014-02.nc Tread_uv10_2014-03.nc Tread_uv10_2014-04.nc Tread_uv10_2014-05.nc Tread_uv10_2014-06.nc Tread_uv10_2014-07.nc Tread_uv10_2014-08.nc Tread_uv10_2014-09.nc Tread_uv10_2014-10.nc Tread_uv10_2014-11.nc Tread_uv10_2014-12.nc Tread_uv10_2015-01.nc Tread_uv10_2015-02.nc Tread_uv10_2015-03.nc Tread_uv10_2015-04.nc Tread_uv10_2015-05.nc Tread_uv10_2015-06.nc Tread_uv10_2015-07.nc Tread_uv10_2015-08.nc Tread_uv10_2015-09.nc Tread_uv10_2015-10.nc Tread_uv10_2015-11.nc Tread_uv10_2015-12.nc Tread_uv10_2016-01.nc Tread_uv10_2016-02.nc Tread_uv10_2016-03.nc Tread_uv10_2016-04.nc Tread_uv10_2016-05.nc Tread_uv10_2016-06.nc Tread_uv10_2016-07.nc Tread_uv10_2016-08.nc Tread_uv10_2016-09.nc Tread_uv10_2016-10.nc Tread_uv10_2016-11.nc Tread_uv10_2016-12.nc Tread_uv10_2017-01.nc Tread_uv10_2017-02.nc Tread_uv10_2017-03.nc Tread_uv10_2017-04.nc Tread_uv10_2017-05.nc Tread_uv10_2017-06.nc Tread_uv10_2017-07.nc Tread_uv10_2017-08.nc Tread_uv10_2017-09.nc Tread_uv10_2017-10.nc Tread_uv10_2017-11.nc Tread_uv10_2017-12.nc Tread_uv10_2018-01.nc Tread_uv10_2018-02.nc Tread_uv10_2018-03.nc Tread_uv10_2018-04.nc Tread_uv10_2018-05.nc Tread_uv10_2018-06.nc Tread_uv10_2018-07.nc Tread_uv10_2018-08.nc Tread_uv10_2018-09.nc Tread_uv10_2018-10.nc Tread_uv10_2018-11.nc Tread_uv10_2018-12.nc Tread_uv10_1980_2018.nc\n",
              "Fri Nov 17 10:31:47 2023: ncks -v UV10M /lfs/archive/TCCIP_data/TReAD/SFC/day/1980-01.nc Tread_uv10_1980-01.nc\n",
              "    NCO: netCDF Operators version 5.1.4 (Homepage = http://nco.sf.net, Code = http://github.com/nco/nco)\n",
              "    dimensions(sizes): time(14245), lat(105), lon(91)\n",
              "    variables(dimensions): float64 UV10M(time, lat, lon), int64 time(time), float64 lon(lon), float64 lat(lat)\n",
              "    groups: "
            ]
          },
          "metadata": {},
          "execution_count": 25
        }
      ]
    },
    {
      "cell_type": "code",
      "source": [
        "netCDF4.Dataset('tread_uv10_1980-2018_deg0.05_daily.nc')"
      ],
      "metadata": {
        "id": "pdpbFop5FjSQ"
      },
      "execution_count": null,
      "outputs": []
    },
    {
      "cell_type": "code",
      "source": [
        "netCDF4.Dataset('tread_tmx_1980-2018_deg0.05_daily.nc').variables['T2MAX'][0,:,:]"
      ],
      "metadata": {
        "id": "HtPx_84cHTdR",
        "outputId": "d498d46b-aa82-4fa3-ef00-c9d971786ba7",
        "colab": {
          "base_uri": "https://localhost:8080/"
        }
      },
      "execution_count": 28,
      "outputs": [
        {
          "output_type": "execute_result",
          "data": {
            "text/plain": [
              "masked_array(\n",
              "  data=[[22.45297241, 22.45326742, 22.47104067, ..., 24.75579635,\n",
              "         24.75836042, 24.76737755],\n",
              "        [22.39921136, 22.40738721, 22.42923068, ..., 24.72538385,\n",
              "         24.73582927, 24.75789699],\n",
              "        [22.35060605, 22.3595324 , 22.38479037, ..., 24.68805834,\n",
              "         24.69747152, 24.6973294 ],\n",
              "        ...,\n",
              "        [15.84901074, 15.85658026, 15.83454523, ..., 20.69203455,\n",
              "         20.77917159, 20.84406695],\n",
              "        [16.3786983 , 16.42794152, 16.49744775, ..., 20.65481198,\n",
              "         20.73098683, 20.80964553],\n",
              "        [18.62146658, 18.49591584, 18.43046929, ..., 20.61623288,\n",
              "         20.69121001, 20.77651111]],\n",
              "  mask=False,\n",
              "  fill_value=1e+20)"
            ]
          },
          "metadata": {},
          "execution_count": 28
        }
      ]
    },
    {
      "cell_type": "code",
      "source": [
        "netCDF4.Dataset('tread_rh2_1980-2018_deg0.05_daily.nc').variables['RH2'][0,:,:]"
      ],
      "metadata": {
        "colab": {
          "base_uri": "https://localhost:8080/"
        },
        "id": "RJqgi-YYPE-n",
        "outputId": "c465b8b6-75ab-4e54-88d7-63749c40dead"
      },
      "execution_count": 29,
      "outputs": [
        {
          "output_type": "execute_result",
          "data": {
            "text/plain": [
              "masked_array(\n",
              "  data=[[85.49315643, 85.40725281, 85.12549101, ..., 81.11812377,\n",
              "         80.83855313, 80.71581538],\n",
              "        [85.52960552, 85.41903218, 85.19880748, ..., 81.41208393,\n",
              "         81.27439952, 81.06815315],\n",
              "        [85.54383907, 85.38924994, 85.25771179, ..., 81.62513701,\n",
              "         81.43091281, 81.21533196],\n",
              "        ...,\n",
              "        [89.48168625, 89.52033148, 89.8053434 , ..., 87.31890327,\n",
              "         87.18134582, 87.13832142],\n",
              "        [87.22871724, 86.98291509, 86.91912618, ..., 87.47727355,\n",
              "         87.53985967, 87.38958481],\n",
              "        [80.71815037, 81.31598413, 82.00536039, ..., 87.65669728,\n",
              "         87.52398492, 87.60153696]],\n",
              "  mask=False,\n",
              "  fill_value=1e+20)"
            ]
          },
          "metadata": {},
          "execution_count": 29
        }
      ]
    },
    {
      "cell_type": "code",
      "source": [
        "netCDF4.Dataset('tread_uv10_1980-2018_deg0.05_daily.nc').variables['UV10M'][0,:,:]"
      ],
      "metadata": {
        "id": "DKGaN69CHJyQ",
        "outputId": "85692c2e-d49a-4dad-a535-1a86da826cfa",
        "colab": {
          "base_uri": "https://localhost:8080/"
        }
      },
      "execution_count": 27,
      "outputs": [
        {
          "output_type": "execute_result",
          "data": {
            "text/plain": [
              "masked_array(\n",
              "  data=[[4.72867393, 4.73067193, 4.76143745, ..., 3.20926709, 3.25981373,\n",
              "         3.36692692],\n",
              "        [4.69715323, 4.71132384, 4.73055215, ..., 3.21210291, 3.2329452 ,\n",
              "         3.33649938],\n",
              "        [4.68109996, 4.7135386 , 4.71780048, ..., 3.17881449, 3.18850977,\n",
              "         3.26570599],\n",
              "        ...,\n",
              "        [3.33460933, 3.46577005, 3.49835018, ..., 4.84654088, 4.94455505,\n",
              "         5.00451891],\n",
              "        [3.0120787 , 3.20372897, 3.40757249, ..., 4.85304049, 4.9277833 ,\n",
              "         4.98136838],\n",
              "        [2.58237153, 2.9378568 , 3.55983076, ..., 4.85085948, 4.92334156,\n",
              "         4.96394748]],\n",
              "  mask=False,\n",
              "  fill_value=1e+20)"
            ]
          },
          "metadata": {},
          "execution_count": 27
        }
      ]
    },
    {
      "cell_type": "code",
      "source": [],
      "metadata": {
        "id": "q4782Z4LHKZr"
      },
      "execution_count": null,
      "outputs": []
    }
  ]
}