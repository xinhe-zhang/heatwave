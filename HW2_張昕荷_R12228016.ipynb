{
  "nbformat": 4,
  "nbformat_minor": 0,
  "metadata": {
    "colab": {
      "provenance": [],
      "include_colab_link": true
    },
    "kernelspec": {
      "name": "python3",
      "display_name": "Python 3"
    },
    "language_info": {
      "name": "python"
    }
  },
  "cells": [
    {
      "cell_type": "markdown",
      "metadata": {
        "id": "view-in-github",
        "colab_type": "text"
      },
      "source": [
        "<a href=\"https://colab.research.google.com/github/xinhe-zhang/heatwave/blob/main/HW2_%E5%BC%B5%E6%98%95%E8%8D%B7_R12228016.ipynb\" target=\"_parent\"><img src=\"https://colab.research.google.com/assets/colab-badge.svg\" alt=\"Open In Colab\"/></a>"
      ]
    },
    {
      "cell_type": "markdown",
      "source": [
        "## **IPCS Heatwave HW1**\n",
        "張昕荷 地理碩一 R12228016\n",
        "\n",
        "***\n",
        "\n",
        "Search two heatwave news, plot it and write what you have observed.\n",
        "## **Event 1 : 2020 Siberia Heatwave**\n",
        "\n",
        "In the first six months of 2020, Siberia experienced a period of unusually high temperatures, including a record-breaking 38 degrees C in the town of Verkhoyansk on 20 June, causing wide-scale impacts including wildfires, loss of permafrost, and an invasion of pests.\n",
        "\n",
        "Reference:\n",
        "\n",
        "https://www.worldweatherattribution.org/\\\n",
        "\n"
      ],
      "metadata": {
        "id": "RhU8zPAgUZ9N"
      }
    },
    {
      "cell_type": "code",
      "source": [
        "%matplotlib inline\n",
        "import xarray as xr\n",
        "import pandas as pd\n",
        "import numpy as np\n",
        "from matplotlib import pyplot as plt\n",
        "import sklearn\n",
        "import sklearn.ensemble\n",
        "import scipy.stats\n",
        "from sklearn.model_selection import train_test_split\n",
        "from tqdm import tqdm\n",
        "from scipy.stats import pearsonr\n",
        "from sklearn.metrics import mean_squared_error\n",
        "\n",
        "!pip install cartopy\n",
        "import cartopy.crs as ccrs"
      ],
      "metadata": {
        "id": "GvPT2g1Y0mBz",
        "colab": {
          "base_uri": "https://localhost:8080/"
        },
        "outputId": "2397bd89-03ac-40f3-83c1-87d480f3762a"
      },
      "execution_count": 1,
      "outputs": [
        {
          "output_type": "stream",
          "name": "stdout",
          "text": [
            "Collecting cartopy\n",
            "  Downloading Cartopy-0.22.0-cp310-cp310-manylinux_2_17_x86_64.manylinux2014_x86_64.whl (11.8 MB)\n",
            "\u001b[2K     \u001b[90m━━━━━━━━━━━━━━━━━━━━━━━━━━━━━━━━━━━━━━━━\u001b[0m \u001b[32m11.8/11.8 MB\u001b[0m \u001b[31m87.6 MB/s\u001b[0m eta \u001b[36m0:00:00\u001b[0m\n",
            "\u001b[?25hRequirement already satisfied: numpy>=1.21 in /usr/local/lib/python3.10/dist-packages (from cartopy) (1.23.5)\n",
            "Requirement already satisfied: matplotlib>=3.4 in /usr/local/lib/python3.10/dist-packages (from cartopy) (3.7.1)\n",
            "Requirement already satisfied: shapely>=1.7 in /usr/local/lib/python3.10/dist-packages (from cartopy) (2.0.1)\n",
            "Requirement already satisfied: packaging>=20 in /usr/local/lib/python3.10/dist-packages (from cartopy) (23.1)\n",
            "Requirement already satisfied: pyshp>=2.1 in /usr/local/lib/python3.10/dist-packages (from cartopy) (2.3.1)\n",
            "Requirement already satisfied: pyproj>=3.1.0 in /usr/local/lib/python3.10/dist-packages (from cartopy) (3.6.0)\n",
            "Requirement already satisfied: contourpy>=1.0.1 in /usr/local/lib/python3.10/dist-packages (from matplotlib>=3.4->cartopy) (1.1.0)\n",
            "Requirement already satisfied: cycler>=0.10 in /usr/local/lib/python3.10/dist-packages (from matplotlib>=3.4->cartopy) (0.11.0)\n",
            "Requirement already satisfied: fonttools>=4.22.0 in /usr/local/lib/python3.10/dist-packages (from matplotlib>=3.4->cartopy) (4.42.1)\n",
            "Requirement already satisfied: kiwisolver>=1.0.1 in /usr/local/lib/python3.10/dist-packages (from matplotlib>=3.4->cartopy) (1.4.5)\n",
            "Requirement already satisfied: pillow>=6.2.0 in /usr/local/lib/python3.10/dist-packages (from matplotlib>=3.4->cartopy) (9.4.0)\n",
            "Requirement already satisfied: pyparsing>=2.3.1 in /usr/local/lib/python3.10/dist-packages (from matplotlib>=3.4->cartopy) (3.1.1)\n",
            "Requirement already satisfied: python-dateutil>=2.7 in /usr/local/lib/python3.10/dist-packages (from matplotlib>=3.4->cartopy) (2.8.2)\n",
            "Requirement already satisfied: certifi in /usr/local/lib/python3.10/dist-packages (from pyproj>=3.1.0->cartopy) (2023.7.22)\n",
            "Requirement already satisfied: six>=1.5 in /usr/local/lib/python3.10/dist-packages (from python-dateutil>=2.7->matplotlib>=3.4->cartopy) (1.16.0)\n",
            "Installing collected packages: cartopy\n",
            "Successfully installed cartopy-0.22.0\n"
          ]
        }
      ]
    },
    {
      "cell_type": "code",
      "source": [
        "#Download ERA5 Tmax, 1979-2022, land only, 144*73\n",
        "#I've changed the data to my own drive.\n",
        "!gdown https://drive.google.com/uc?id=14okWeTrUH1nHZcgbmBZupRM6s5EcVoYu&export=download"
      ],
      "metadata": {
        "id": "4JrPhCJy4N1R",
        "outputId": "6ed1dceb-07f3-4584-a92a-2cbabc5d8104",
        "colab": {
          "base_uri": "https://localhost:8080/"
        }
      },
      "execution_count": 2,
      "outputs": [
        {
          "output_type": "stream",
          "name": "stdout",
          "text": [
            "Downloading...\n",
            "From: https://drive.google.com/uc?id=14okWeTrUH1nHZcgbmBZupRM6s5EcVoYu\n",
            "To: /content/ERA5_SFC_mx2t_1979-2022_r144x73_day.land.nc\n",
            "100% 676M/676M [00:03<00:00, 169MB/s]\n"
          ]
        }
      ]
    },
    {
      "cell_type": "code",
      "source": [
        "filename ='ERA5_SFC_mx2t_1979-2022_r144x73_day.land.nc'\n",
        "ds_mx2t = xr.open_dataset(filename)"
      ],
      "metadata": {
        "id": "zaNOJegm4RTI"
      },
      "execution_count": 4,
      "outputs": []
    },
    {
      "cell_type": "code",
      "source": [
        "# Convert Kelvin to Celsius\n",
        "ds_mx2t = ds_mx2t - 273.15"
      ],
      "metadata": {
        "id": "R-Zy1x_G4VjF"
      },
      "execution_count": 5,
      "outputs": []
    },
    {
      "cell_type": "code",
      "source": [
        "ds_mx2t['time'] = ds_mx2t['time'].astype('datetime64[ns]')\n",
        "print(ds_mx2t['time'].dtype)\n",
        "print(ds_mx2t['time'])\n",
        "\n",
        "start_date = np.datetime64('1979-01-01')\n",
        "end_date = np.datetime64('2023-01-01')  # Adjust the end date as needed\n",
        "\n",
        "# Create a time array with intervals of 1 day\n",
        "time_array = np.arange(start_date, end_date, np.timedelta64(1, 'D'))\n",
        "\n",
        "print(time_array)\n",
        "ds_mx2t['time'] = time_array"
      ],
      "metadata": {
        "colab": {
          "base_uri": "https://localhost:8080/"
        },
        "id": "o6sB2tqWUNUz",
        "outputId": "21d153f5-4fdc-4438-ad3f-7f84831c6cbe"
      },
      "execution_count": 6,
      "outputs": [
        {
          "output_type": "stream",
          "name": "stdout",
          "text": [
            "datetime64[ns]\n",
            "<xarray.DataArray 'time' (time: 16071)>\n",
            "array(['1970-01-01T00:00:00.019790101', '1970-01-01T00:00:00.019790102',\n",
            "       '1970-01-01T00:00:00.019790103', ..., '1970-01-01T00:00:00.020221229',\n",
            "       '1970-01-01T00:00:00.020221230', '1970-01-01T00:00:00.020221231'],\n",
            "      dtype='datetime64[ns]')\n",
            "Coordinates:\n",
            "  * time     (time) datetime64[ns] 1970-01-01T00:00:00.019790101 ... 1970-01-...\n",
            "Attributes:\n",
            "    standard_name:  time\n",
            "    long_name:      Date\n",
            "    units:          day as %Y%m%d.%f\n",
            "    calendar:       proleptic_gregorian\n",
            "    axis:           T\n",
            "['1979-01-01' '1979-01-02' '1979-01-03' ... '2022-12-29' '2022-12-30'\n",
            " '2022-12-31']\n"
          ]
        }
      ]
    },
    {
      "cell_type": "code",
      "source": [
        "# check the data size\n",
        "mx2t=ds_mx2t['mx2t']\n",
        "print(mx2t.shape)"
      ],
      "metadata": {
        "id": "6RLfE8E5QjRF",
        "outputId": "951c62c4-3ac7-4941-eeab-9d11d7f382cf",
        "colab": {
          "base_uri": "https://localhost:8080/"
        }
      },
      "execution_count": 7,
      "outputs": [
        {
          "output_type": "stream",
          "name": "stdout",
          "text": [
            "(16071, 73, 144)\n"
          ]
        }
      ]
    }
  ]
}